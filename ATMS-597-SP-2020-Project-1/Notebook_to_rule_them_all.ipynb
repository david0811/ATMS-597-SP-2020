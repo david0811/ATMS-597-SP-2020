{
  "nbformat": 4,
  "nbformat_minor": 0,
  "metadata": {
    "colab": {
      "name": "Notebook_to_rule_them_all.ipynb",
      "provenance": [],
      "collapsed_sections": [],
      "include_colab_link": true
    },
    "kernelspec": {
      "name": "python3",
      "display_name": "Python 3"
    }
  },
  "cells": [
    {
      "cell_type": "markdown",
      "metadata": {
        "id": "view-in-github",
        "colab_type": "text"
      },
      "source": [
        "<a href=\"https://colab.research.google.com/github/dopplerchase/ATMS-597-SP-2020/blob/master/ATMS-597-SP-2020-Project-1/Notebook_to_rule_them_all.ipynb\" target=\"_parent\"><img src=\"https://colab.research.google.com/assets/colab-badge.svg\" alt=\"Open In Colab\"/></a>"
      ]
    },
    {
      "cell_type": "code",
      "metadata": {
        "id": "ns1DJLTgvazK",
        "colab_type": "code",
        "outputId": "67561ecf-3c34-48a8-95b0-4e4b6b4c175c",
        "colab": {
          "base_uri": "https://localhost:8080/",
          "height": 136
        }
      },
      "source": [
        "!git clone https://github.com/dopplerchase/ATMS-597-SP-2020.git\n",
        "\n",
        "import os \n",
        "\n",
        "os.chdir('./ATMS-597-SP-2020/ATMS-597-SP-2020-Project-1/')"
      ],
      "execution_count": 1,
      "outputs": [
        {
          "output_type": "stream",
          "text": [
            "Cloning into 'ATMS-597-SP-2020'...\n",
            "remote: Enumerating objects: 12, done.\u001b[K\n",
            "remote: Counting objects: 100% (12/12), done.\u001b[K\n",
            "remote: Compressing objects: 100% (12/12), done.\u001b[K\n",
            "remote: Total 114 (delta 4), reused 0 (delta 0), pack-reused 102\u001b[K\n",
            "Receiving objects: 100% (114/114), 339.03 KiB | 1.26 MiB/s, done.\n",
            "Resolving deltas: 100% (51/51), done.\n"
          ],
          "name": "stdout"
        }
      ]
    },
    {
      "cell_type": "code",
      "metadata": {
        "id": "VzD9ZIqbv_CU",
        "colab_type": "code",
        "colab": {}
      },
      "source": [
        "from Project1_GroupC_chase import MrT\n",
        "from Project1_GroupC_dl import TempConvert\n",
        "from Project1_GroupC_alex import tempConvert\n",
        "\n",
        "from SUBMISSION import MrT as submission_object\n",
        "\n",
        "\n",
        "import numpy as np"
      ],
      "execution_count": 0,
      "outputs": []
    },
    {
      "cell_type": "code",
      "metadata": {
        "id": "4tvqB_dkwNdi",
        "colab_type": "code",
        "outputId": "97649355-abc6-4812-d875-4e604f9e4854",
        "colab": {
          "base_uri": "https://localhost:8080/",
          "height": 119
        }
      },
      "source": [
        "T = [0,100]\n",
        "unit = 'C'\n",
        "randy = MrT(data=T,unit=unit)\n",
        "david = TempConvert(T,unit)\n",
        "alex = tempConvert(T)\n",
        "submission = submission_object(data=T,unit=unit)\n",
        "\n",
        "#here is an example \n",
        "submission.toK()\n",
        "print(submission.data,type(submission.data))\n",
        "submission.toF()\n",
        "print(submission.data,type(submission.data))\n",
        "submission.toC()\n",
        "print(submission.data,type(submission.data))\n",
        "\n",
        "T = np.array([0,100])\n",
        "unit = 'C'\n",
        "randy = MrT(data=T,unit=unit)\n",
        "david = TempConvert(T,unit)\n",
        "alex = tempConvert(T)\n",
        "submission = submission_object(data=T,unit=unit)\n",
        "\n",
        "#here is an example \n",
        "submission.toK()\n",
        "print(submission.data,type(submission.data))\n",
        "submission.toF()\n",
        "print(submission.data,type(submission.data))\n",
        "submission.toC()\n",
        "print(submission.data,type(submission.data))"
      ],
      "execution_count": 50,
      "outputs": [
        {
          "output_type": "stream",
          "text": [
            "[273.15, 373.15] <class 'list'>\n",
            "[32.0, 212.0] <class 'list'>\n",
            "[0.0, 100.0] <class 'list'>\n",
            "[273.15 373.15] <class 'numpy.ndarray'>\n",
            "[ 32. 212.] <class 'numpy.ndarray'>\n",
            "[  0. 100.] <class 'numpy.ndarray'>\n"
          ],
          "name": "stdout"
        }
      ]
    }
  ]
}