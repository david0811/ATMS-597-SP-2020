{
  "nbformat": 4,
  "nbformat_minor": 0,
  "metadata": {
    "colab": {
      "name": "Notebook_to_rule_them_all.ipynb",
      "provenance": [],
      "collapsed_sections": [],
      "authorship_tag": "ABX9TyMbbO5e6eoqP53eO55WB+bB",
      "include_colab_link": true
    },
    "kernelspec": {
      "name": "python3",
      "display_name": "Python 3"
    }
  },
  "cells": [
    {
      "cell_type": "markdown",
      "metadata": {
        "id": "view-in-github",
        "colab_type": "text"
      },
      "source": [
        "<a href=\"https://colab.research.google.com/github/dopplerchase/ATMS-597-SP-2020/blob/master/Notebook_to_rule_them_all.ipynb\" target=\"_parent\"><img src=\"https://colab.research.google.com/assets/colab-badge.svg\" alt=\"Open In Colab\"/></a>"
      ]
    },
    {
      "cell_type": "code",
      "metadata": {
        "id": "ns1DJLTgvazK",
        "colab_type": "code",
        "colab": {
          "base_uri": "https://localhost:8080/",
          "height": 119
        },
        "outputId": "81bd912b-eddc-44e4-f84d-16902209ae2c"
      },
      "source": [
        "!git clone https://github.com/dopplerchase/ATMS-597-SP-2020.git\n",
        "\n",
        "import os \n",
        "\n",
        "os.chdir('./ATMS-597-SP-2020/ATMS-597-SP-2020-Project-1/')"
      ],
      "execution_count": 1,
      "outputs": [
        {
          "output_type": "stream",
          "text": [
            "Cloning into 'ATMS-597-SP-2020'...\n",
            "remote: Enumerating objects: 48, done.\u001b[K\n",
            "remote: Counting objects: 100% (48/48), done.\u001b[K\n",
            "remote: Compressing objects: 100% (48/48), done.\u001b[K\n",
            "remote: Total 82 (delta 24), reused 1 (delta 0), pack-reused 34\u001b[K\n",
            "Unpacking objects: 100% (82/82), done.\n"
          ],
          "name": "stdout"
        }
      ]
    },
    {
      "cell_type": "code",
      "metadata": {
        "id": "VzD9ZIqbv_CU",
        "colab_type": "code",
        "colab": {}
      },
      "source": [
        "# TempConvert\n",
        "from Project1_GroupC_chase import MrT\n",
        "from Project1_GroupC_dl import TempConvert\n",
        "from alexTempConvert import tempConvert\n"
      ],
      "execution_count": 0,
      "outputs": []
    },
    {
      "cell_type": "code",
      "metadata": {
        "id": "4tvqB_dkwNdi",
        "colab_type": "code",
        "colab": {
          "base_uri": "https://localhost:8080/",
          "height": 34
        },
        "outputId": "9f2877d5-98d4-479e-9de4-85ebce4a8924"
      },
      "source": [
        "T = 0\n",
        "unit = 'C'\n",
        "randy = MrT(data=T,unit=unit)\n",
        "david = TempConvert(T,unit)\n",
        "alex = tempConvert()\n"
      ],
      "execution_count": 5,
      "outputs": [
        {
          "output_type": "execute_result",
          "data": {
            "text/plain": [
              "<alexTempConvert.tempConvert at 0x7ff5ed3afac8>"
            ]
          },
          "metadata": {
            "tags": []
          },
          "execution_count": 5
        }
      ]
    },
    {
      "cell_type": "code",
      "metadata": {
        "id": "xlpWFLWXwSza",
        "colab_type": "code",
        "colab": {
          "base_uri": "https://localhost:8080/",
          "height": 34
        },
        "outputId": "cd02b0b9-b0a4-46a0-a7b0-95fcd7231a22"
      },
      "source": [
        "randy.toF()\n",
        "print(randy.data)"
      ],
      "execution_count": 18,
      "outputs": [
        {
          "output_type": "stream",
          "text": [
            "32.0\n"
          ],
          "name": "stdout"
        }
      ]
    },
    {
      "cell_type": "code",
      "metadata": {
        "id": "qvx0Z-1jxoDU",
        "colab_type": "code",
        "colab": {
          "base_uri": "https://localhost:8080/",
          "height": 34
        },
        "outputId": "bf660f9f-915e-4b73-eb51-db49f6271cda"
      },
      "source": [
        "temps = [15.,20.,25.,30.,40.]\n",
        "test = MrT(data = temps,unit = 'C')\n",
        "test.data"
      ],
      "execution_count": 8,
      "outputs": [
        {
          "output_type": "execute_result",
          "data": {
            "text/plain": [
              "[15.0, 20.0, 25.0, 30.0, 40.0]"
            ]
          },
          "metadata": {
            "tags": []
          },
          "execution_count": 8
        }
      ]
    },
    {
      "cell_type": "code",
      "metadata": {
        "id": "Fv3T0KNjzJtI",
        "colab_type": "code",
        "colab": {
          "base_uri": "https://localhost:8080/",
          "height": 34
        },
        "outputId": "7d87f50c-d8e6-467e-830f-adae6e3232d5"
      },
      "source": [
        "test.toK()\n",
        "# test.data"
      ],
      "execution_count": 10,
      "outputs": [
        {
          "output_type": "execute_result",
          "data": {
            "text/plain": [
              "[288.0, 293.0, 298.0, 303.0, 313.0]"
            ]
          },
          "metadata": {
            "tags": []
          },
          "execution_count": 10
        }
      ]
    },
    {
      "cell_type": "code",
      "metadata": {
        "id": "KGoX_1UEzNbu",
        "colab_type": "code",
        "colab": {
          "base_uri": "https://localhost:8080/",
          "height": 34
        },
        "outputId": "d93d2a06-a24d-464d-c76b-32059c26c17d"
      },
      "source": [
        "test."
      ],
      "execution_count": 11,
      "outputs": [
        {
          "output_type": "execute_result",
          "data": {
            "text/plain": [
              "list"
            ]
          },
          "metadata": {
            "tags": []
          },
          "execution_count": 11
        }
      ]
    },
    {
      "cell_type": "code",
      "metadata": {
        "id": "6yqcejqg0I8h",
        "colab_type": "code",
        "colab": {}
      },
      "source": [
        ""
      ],
      "execution_count": 0,
      "outputs": []
    }
  ]
}
