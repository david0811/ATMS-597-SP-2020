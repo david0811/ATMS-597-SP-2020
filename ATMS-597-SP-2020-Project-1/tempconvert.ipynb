{
 "cells": [
  {
   "cell_type": "code",
   "execution_count": 1,
   "metadata": {},
   "outputs": [],
   "source": [
    "import numpy as np"
   ]
  },
  {
   "cell_type": "code",
   "execution_count": 36,
   "metadata": {},
   "outputs": [],
   "source": [
    "class tempConvert:\n",
    "    \"A class to convert temperatures between Celsius, Fahrenheit, and Kelvin\"\n",
    "    \n",
    "    def FtoC(temp):\n",
    "        \"Converting Fahrenheit to Celsius\"\n",
    "        \n",
    "        templist = []\n",
    "        \n",
    "        for i in temp:\n",
    "            templist.append(round(((i - 32.) * (5./9.)), 2))\n",
    "            \n",
    "        return templist\n",
    "    \n",
    "    def CtoF(temp):\n",
    "        \"Converting Celsius to Fahrenheit\"\n",
    "        \n",
    "        templist = []\n",
    "        \n",
    "        for i in temp:\n",
    "            templist.append(round((i * (9./5.) + 32.), 2))\n",
    "            \n",
    "        return templist\n",
    "    \n",
    "    def CtoK(temp):\n",
    "        \"Converting Celsius to Kelvin\"\n",
    "        \n",
    "        templist = []\n",
    "        \n",
    "        for i in temp:\n",
    "            templist.append(round((i + 273.15), 2))\n",
    "            \n",
    "        return templist\n",
    "    \n",
    "    def KtoC(temp):\n",
    "        \"Converting Kelvin to Celsius\"\n",
    "        \n",
    "        templist = []\n",
    "        \n",
    "        for i in temp:\n",
    "            templist.append(round((i - 273.15), 2))\n",
    "            \n",
    "        return templist\n",
    "    \n",
    "    def FtoK(temp):\n",
    "        \"Converting Fahrenheit to Kelvin\"\n",
    "        \n",
    "        templist = []\n",
    "        \n",
    "        for i in temp:\n",
    "            templist.append(round(((i - 32.) * (5./9.) - 273.15), 2))\n",
    "            \n",
    "        return templist\n",
    "    \n",
    "    def KtoF(temp):\n",
    "        \"Converting Kelvin to Fahrenheit\"\n",
    "        \n",
    "        templist = []\n",
    "        \n",
    "        for i in temp:\n",
    "            templist.append(round(((i + 273.15) * (9./5.) + 32.), 2))\n",
    "            \n",
    "        return templist\n",
    "    "
   ]
  },
  {
   "cell_type": "code",
   "execution_count": 40,
   "metadata": {},
   "outputs": [],
   "source": [
    "temps = [15.,20.,25.,30.,40.]\n",
    "\n",
    "f = tempConvert.FtoC(temps)"
   ]
  },
  {
   "cell_type": "code",
   "execution_count": 38,
   "metadata": {},
   "outputs": [
    {
     "data": {
      "text/plain": [
       "[-9.44, -6.67, -3.89, -1.11]"
      ]
     },
     "execution_count": 38,
     "metadata": {},
     "output_type": "execute_result"
    }
   ],
   "source": [
    "f"
   ]
  },
  {
   "cell_type": "code",
   "execution_count": 39,
   "metadata": {},
   "outputs": [
    {
     "data": {
      "text/plain": [
       "[-258.15, -253.15, -248.15, -243.15]"
      ]
     },
     "execution_count": 39,
     "metadata": {},
     "output_type": "execute_result"
    }
   ],
   "source": [
    "g = tempConvert.KtoC(temps)\n",
    "g"
   ]
  },
  {
   "cell_type": "code",
   "execution_count": 41,
   "metadata": {},
   "outputs": [],
   "source": [
    "h = tempConvert.CtoF(temps)"
   ]
  },
  {
   "cell_type": "code",
   "execution_count": 42,
   "metadata": {},
   "outputs": [
    {
     "data": {
      "text/plain": [
       "[59.0, 68.0, 77.0, 86.0, 104.0]"
      ]
     },
     "execution_count": 42,
     "metadata": {},
     "output_type": "execute_result"
    }
   ],
   "source": [
    "h"
   ]
  },
  {
   "cell_type": "code",
   "execution_count": null,
   "metadata": {},
   "outputs": [],
   "source": []
  }
 ],
 "metadata": {
  "kernelspec": {
   "display_name": "Python 3",
   "language": "python",
   "name": "python3"
  },
  "language_info": {
   "codemirror_mode": {
    "name": "ipython",
    "version": 3
   },
   "file_extension": ".py",
   "mimetype": "text/x-python",
   "name": "python",
   "nbconvert_exporter": "python",
   "pygments_lexer": "ipython3",
   "version": "3.6.7"
  }
 },
 "nbformat": 4,
 "nbformat_minor": 4
}
