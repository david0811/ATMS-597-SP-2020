{
  "nbformat": 4,
  "nbformat_minor": 0,
  "metadata": {
    "colab": {
      "name": "Notebook_to_rule_them_all.ipynb",
      "provenance": [],
      "collapsed_sections": [],
      "authorship_tag": "ABX9TyO4fj1dVNCxxSh9p8XB6sU2",
      "include_colab_link": true
    },
    "kernelspec": {
      "name": "python3",
      "display_name": "Python 3"
    }
  },
  "cells": [
    {
      "cell_type": "markdown",
      "metadata": {
        "id": "view-in-github",
        "colab_type": "text"
      },
      "source": [
        "<a href=\"https://colab.research.google.com/github/dopplerchase/ATMS-597-SP-2020/blob/master/Notebook_to_rule_them_all.ipynb\" target=\"_parent\"><img src=\"https://colab.research.google.com/assets/colab-badge.svg\" alt=\"Open In Colab\"/></a>"
      ]
    },
    {
      "cell_type": "code",
      "metadata": {
        "id": "ns1DJLTgvazK",
        "colab_type": "code",
        "colab": {
          "base_uri": "https://localhost:8080/",
          "height": 119
        },
        "outputId": "53398338-40e0-4ab7-e695-c8eda4d6eb98"
      },
      "source": [
        "!git clone https://github.com/dopplerchase/ATMS-597-SP-2020.git\n",
        "\n",
        "import os \n",
        "\n",
        "os.chdir('./ATMS-597-SP-2020/ATMS-597-SP-2020-Project-1/')"
      ],
      "execution_count": 1,
      "outputs": [
        {
          "output_type": "stream",
          "text": [
            "Cloning into 'ATMS-597-SP-2020'...\n",
            "remote: Enumerating objects: 26, done.\u001b[K\n",
            "remote: Counting objects: 100% (26/26), done.\u001b[K\n",
            "remote: Compressing objects: 100% (26/26), done.\u001b[K\n",
            "remote: Total 60 (delta 10), reused 1 (delta 0), pack-reused 34\u001b[K\n",
            "Unpacking objects: 100% (60/60), done.\n"
          ],
          "name": "stdout"
        }
      ]
    },
    {
      "cell_type": "code",
      "metadata": {
        "id": "VzD9ZIqbv_CU",
        "colab_type": "code",
        "colab": {}
      },
      "source": [
        "# TempConvert\n",
        "from Project1_GroupC_chase import MrT\n",
        "from Project1_GroupC_dl import TempConvert\n"
      ],
      "execution_count": 0,
      "outputs": []
    },
    {
      "cell_type": "code",
      "metadata": {
        "id": "4tvqB_dkwNdi",
        "colab_type": "code",
        "colab": {
          "base_uri": "https://localhost:8080/",
          "height": 34
        },
        "outputId": "4a29b1eb-d0c3-4e67-a8f1-a90a38dbdba4"
      },
      "source": [
        "MrT()"
      ],
      "execution_count": 5,
      "outputs": [
        {
          "output_type": "execute_result",
          "data": {
            "text/plain": [
              "<Project1_GroupC_chase.MrT at 0x7f7cbdb0d828>"
            ]
          },
          "metadata": {
            "tags": []
          },
          "execution_count": 5
        }
      ]
    },
    {
      "cell_type": "code",
      "metadata": {
        "id": "xlpWFLWXwSza",
        "colab_type": "code",
        "colab": {}
      },
      "source": [
        ""
      ],
      "execution_count": 0,
      "outputs": []
    }
  ]
}